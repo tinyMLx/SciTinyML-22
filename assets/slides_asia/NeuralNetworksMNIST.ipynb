{
  "cells": [
    {
      "cell_type": "code",
      "execution_count": null,
      "metadata": {
        "id": "WnlgZrd5Hkl2"
      },
      "outputs": [],
      "source": [
        "from sklearn.neural_network import MLPClassifier\n",
        "from sklearn.datasets import fetch_openml"
      ]
    },
    {
      "cell_type": "code",
      "execution_count": null,
      "metadata": {
        "id": "NRjTHXt9Hkl4"
      },
      "outputs": [],
      "source": [
        "X, y = fetch_openml('mnist_784', version=1, return_X_y=True)\n",
        "X = X / 255."
      ]
    },
    {
      "cell_type": "code",
      "execution_count": null,
      "metadata": {
        "id": "ktWLQ4QDHkl5"
      },
      "outputs": [],
      "source": [
        "X.shape"
      ]
    },
    {
      "cell_type": "code",
      "execution_count": null,
      "metadata": {
        "id": "nTCYlw3ZHkl7"
      },
      "outputs": [],
      "source": [
        "y"
      ]
    },
    {
      "cell_type": "code",
      "execution_count": null,
      "metadata": {
        "id": "7_IjxQDmHkl8"
      },
      "outputs": [],
      "source": [
        "X_train = X[:60000]\n",
        "X_test  = X[60000:]"
      ]
    },
    {
      "cell_type": "code",
      "execution_count": null,
      "metadata": {
        "id": "enam8eu4Hkl9"
      },
      "outputs": [],
      "source": [
        "y_train = y[:60000]\n",
        "y_test  = y[60000:]"
      ]
    },
    {
      "cell_type": "code",
      "execution_count": null,
      "metadata": {
        "id": "TqqNpQXwHkl-"
      },
      "outputs": [],
      "source": [
        "model = MLPClassifier(hidden_layer_sizes=(50,) , max_iter=100 , alpha=1e-4,solver='sgd', random_state=1 \n",
        "                      , learning_rate_init=.1 , verbose=10 , tol=1e-4)"
      ]
    },
    {
      "cell_type": "code",
      "execution_count": null,
      "metadata": {
        "colab": {
          "base_uri": "https://localhost:8080/"
        },
        "id": "hdX1EXpIHkl_",
        "outputId": "e1ce72f2-282c-49c8-a95b-82a25adab104"
      },
      "outputs": [
        {
          "output_type": "stream",
          "name": "stdout",
          "text": [
            "Iteration 1, loss = 0.32009978\n",
            "Iteration 2, loss = 0.15347534\n",
            "Iteration 3, loss = 0.11544755\n",
            "Iteration 4, loss = 0.09279764\n",
            "Iteration 5, loss = 0.07889367\n",
            "Iteration 6, loss = 0.07170497\n",
            "Iteration 7, loss = 0.06282111\n",
            "Iteration 8, loss = 0.05530788\n",
            "Iteration 9, loss = 0.04960484\n",
            "Iteration 10, loss = 0.04645355\n",
            "Iteration 11, loss = 0.04082169\n",
            "Iteration 12, loss = 0.03828222\n",
            "Iteration 13, loss = 0.03557957\n",
            "Iteration 14, loss = 0.03054891\n",
            "Iteration 15, loss = 0.02924761\n",
            "Iteration 16, loss = 0.02610471\n",
            "Iteration 17, loss = 0.02363894\n",
            "Iteration 18, loss = 0.02208186\n",
            "Iteration 19, loss = 0.01932900\n",
            "Iteration 20, loss = 0.01830387\n",
            "Iteration 21, loss = 0.01639227\n",
            "Iteration 22, loss = 0.01392950\n",
            "Iteration 23, loss = 0.01270193\n",
            "Iteration 24, loss = 0.01234102\n",
            "Iteration 25, loss = 0.01081313\n",
            "Iteration 26, loss = 0.01028644\n",
            "Iteration 27, loss = 0.00896707\n",
            "Iteration 28, loss = 0.00744908\n",
            "Iteration 29, loss = 0.00707946\n",
            "Iteration 30, loss = 0.00573869\n",
            "Iteration 31, loss = 0.00499554\n",
            "Iteration 32, loss = 0.00477064\n",
            "Iteration 33, loss = 0.00395458\n",
            "Iteration 34, loss = 0.00355619\n",
            "Iteration 35, loss = 0.00375497\n",
            "Iteration 36, loss = 0.00304228\n",
            "Iteration 37, loss = 0.00264245\n",
            "Iteration 38, loss = 0.00241425\n",
            "Iteration 39, loss = 0.00234957\n",
            "Iteration 40, loss = 0.00233803\n",
            "Iteration 41, loss = 0.00204653\n",
            "Iteration 42, loss = 0.00199057\n",
            "Iteration 43, loss = 0.00190567\n",
            "Iteration 44, loss = 0.00180530\n",
            "Iteration 45, loss = 0.00175054\n",
            "Iteration 46, loss = 0.00168160\n",
            "Iteration 47, loss = 0.00162517\n",
            "Iteration 48, loss = 0.00159676\n",
            "Iteration 49, loss = 0.00154993\n",
            "Iteration 50, loss = 0.00152799\n",
            "Iteration 51, loss = 0.00146697\n",
            "Iteration 52, loss = 0.00145257\n",
            "Iteration 53, loss = 0.00143422\n",
            "Iteration 54, loss = 0.00135888\n",
            "Iteration 55, loss = 0.00134281\n",
            "Training loss did not improve more than tol=0.000100 for 10 consecutive epochs. Stopping.\n"
          ]
        },
        {
          "output_type": "execute_result",
          "data": {
            "text/plain": [
              "MLPClassifier(hidden_layer_sizes=(50,), learning_rate_init=0.1, max_iter=100,\n",
              "              random_state=1, solver='sgd', verbose=10)"
            ]
          },
          "metadata": {},
          "execution_count": 16
        }
      ],
      "source": [
        "model.fit(X_train, y_train)"
      ]
    },
    {
      "cell_type": "code",
      "execution_count": null,
      "metadata": {
        "id": "-uEBHvmBHkmB"
      },
      "outputs": [],
      "source": [
        "model.score(X_train, y_train)"
      ]
    },
    {
      "cell_type": "code",
      "execution_count": null,
      "metadata": {
        "id": "JzME9WZGHkmC"
      },
      "outputs": [],
      "source": [
        "model.score(X_test, y_test)"
      ]
    }
  ],
  "metadata": {
    "kernelspec": {
      "display_name": "Python 3",
      "language": "python",
      "name": "python3"
    },
    "language_info": {
      "codemirror_mode": {
        "name": "ipython",
        "version": 3
      },
      "file_extension": ".py",
      "mimetype": "text/x-python",
      "name": "python",
      "nbconvert_exporter": "python",
      "pygments_lexer": "ipython3",
      "version": "3.7.1"
    },
    "colab": {
      "name": "Neural networks-MNIST.ipynb",
      "provenance": [],
      "collapsed_sections": []
    }
  },
  "nbformat": 4,
  "nbformat_minor": 0
}